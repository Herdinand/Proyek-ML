{
 "cells": [
  {
   "cell_type": "markdown",
   "id": "408ef86a",
   "metadata": {},
   "source": [
    "# Proyek ML"
   ]
  },
  {
   "cell_type": "markdown",
   "id": "54958ebd",
   "metadata": {},
   "source": [
    "## Permasalahan  yang dihadapi"
   ]
  },
  {
   "cell_type": "markdown",
   "id": "4add44e0",
   "metadata": {},
   "source": [
    "### Penjelasan"
   ]
  },
  {
   "cell_type": "markdown",
   "id": "cadd5337",
   "metadata": {},
   "source": [
    "## Alasan pemilihan data\n"
   ]
  },
  {
   "cell_type": "markdown",
   "id": "890d8a2c",
   "metadata": {},
   "source": [
    "### Penjelasan"
   ]
  },
  {
   "cell_type": "markdown",
   "id": "6afd5622",
   "metadata": {},
   "source": [
    "## Library"
   ]
  },
  {
   "cell_type": "code",
   "execution_count": null,
   "id": "7be2e42b",
   "metadata": {},
   "outputs": [],
   "source": [
    "import pandas as pd\n",
    "import matplotlib.pyplot as plt\n",
    "import seaborn as sns\n",
    "import cv2\n",
    "import os\n",
    "import numpy as np\n",
    "from sklearn.preprocessing import LabelEncoder"
   ]
  },
  {
   "cell_type": "markdown",
   "id": "0c97d1b6",
   "metadata": {},
   "source": [
    "## EDA"
   ]
  },
  {
   "cell_type": "markdown",
   "id": "91a87599",
   "metadata": {},
   "source": [
    "### EDA_age"
   ]
  },
  {
   "cell_type": "code",
   "execution_count": null,
   "id": "88852d67",
   "metadata": {},
   "outputs": [],
   "source": [
    "# Load data CSV\n",
    "csv_path = './data/at/features.csv'  # Sesuaikan path kalau berbeda\n",
    "df = pd.read_csv(csv_path)\n",
    "\n",
    "# Cek beberapa data awal\n",
    "print(df.head())\n",
    "\n",
    "# Set style for better looking plots\n",
    "sns.set(style=\"whitegrid\")\n",
    "\n",
    "# --- Visualisasi 1: Histogram Sebaran Usia ---\n",
    "plt.figure(figsize=(8, 6))\n",
    "sns.histplot(df['age'], kde=True, color='skyblue', bins=15)\n",
    "\n",
    "plt.title('Distribusi Usia dalam Dataset', fontsize=14)\n",
    "plt.xlabel('Usia', fontsize=12)\n",
    "plt.ylabel('Frekuensi', fontsize=12)\n",
    "plt.tight_layout()\n",
    "plt.show()\n",
    "\n",
    "# --- Visualisasi 2: Boxplot Usia Berdasarkan Gender ---\n",
    "plt.figure(figsize=(8, 6))\n",
    "sns.boxplot(x='gender', y='age', data=df, palette='Set2')\n",
    "\n",
    "plt.title('Penyebaran Usia Berdasarkan Gender', fontsize=14)\n",
    "plt.xlabel('Gender (M/F)', fontsize=12)\n",
    "plt.ylabel('Usia', fontsize=12)\n",
    "plt.tight_layout()\n",
    "plt.show()\n"
   ]
  },
  {
   "cell_type": "markdown",
   "id": "d1bdcc0a",
   "metadata": {},
   "source": [
    "### EDA_gender\n"
   ]
  },
  {
   "cell_type": "code",
   "execution_count": null,
   "id": "97d14c77",
   "metadata": {},
   "outputs": [],
   "source": [
    "# Load data CSV\n",
    "csv_path = './data/at/features.csv'  # Sesuaikan path kalau berbeda\n",
    "df = pd.read_csv(csv_path)\n",
    "\n",
    "# Cek beberapa data awal\n",
    "print(df.head())\n",
    "\n",
    "# Visualisasi distribusi gender\n",
    "plt.figure(figsize=(6, 4))\n",
    "sns.countplot(x='gender', data=df, palette='Set2')\n",
    "\n",
    "plt.title('Distribusi Gender pada Dataset Wajah', fontsize=14)\n",
    "plt.xlabel('Gender (M/F)', fontsize=12)\n",
    "plt.ylabel('Jumlah Foto', fontsize=12)\n",
    "plt.grid(axis='y', linestyle='--', alpha=0.7)\n",
    "plt.tight_layout()\n",
    "\n",
    "plt.show()"
   ]
  },
  {
   "cell_type": "markdown",
   "id": "9e370c6e",
   "metadata": {},
   "source": [
    "### Penjelasan\n"
   ]
  },
  {
   "cell_type": "markdown",
   "id": "46eebe32",
   "metadata": {},
   "source": [
    "## Data Preprocessing"
   ]
  },
  {
   "cell_type": "markdown",
   "id": "a6f46aff",
   "metadata": {},
   "source": [
    "### Resize image"
   ]
  },
  {
   "cell_type": "code",
   "execution_count": null,
   "id": "abe1720e",
   "metadata": {},
   "outputs": [],
   "source": [
    "# Fungsi untuk melakukan resize dan normalisasi gambar\n",
    "def preprocess_images(image_folder, target_size=(200, 200)):\n",
    "    images = []\n",
    "    labels = []\n",
    "    image_paths = []\n",
    "    \n",
    "    # Loop melalui semua file gambar dalam folder\n",
    "    for filename in os.listdir(image_folder):\n",
    "        if filename.endswith('.pgm'):  # Hanya file .pgm\n",
    "            img_path = os.path.join(image_folder, filename)\n",
    "            img = cv2.imread(img_path, cv2.IMREAD_GRAYSCALE)  # Baca gambar dalam grayscale\n",
    "            img = cv2.resize(img, target_size)  # Resize gambar ke target_size\n",
    "            \n",
    "            # Normalisasi pixel (ubah rentang 0-255 menjadi 0-1)\n",
    "            img = img / 255.0  # Normalisasi\n",
    "            \n",
    "            images.append(img)\n",
    "            image_paths.append(img_path)\n",
    "    \n",
    "    return np.array(images), image_paths\n",
    "\n",
    "# Fungsi untuk preprocessing data CSV (encoding label)\n",
    "def preprocess_csv(csv_path):\n",
    "    df = pd.read_csv(csv_path)\n",
    "\n",
    "    # Encode label ID (misalnya, ID user jadi angka)\n",
    "    label_encoder = LabelEncoder()\n",
    "    df['ID'] = label_encoder.fit_transform(df['ID'])\n",
    "    \n",
    "    # Extract features (age, gender, timestamp) untuk model training\n",
    "    df_features = df[['age', 'gender', 'timestamp']].copy()\n",
    "    \n",
    "    # Encode gender menjadi angka (M -> 1, F -> 0)\n",
    "    df_features['gender'] = df_features['gender'].map({'M': 1, 'F': 0})\n",
    "\n",
    "    return df_features, label_encoder\n",
    "\n",
    "# Path ke folder gambar dan file CSV\n",
    "image_folder = './data/at/j'  # Sesuaikan path jika perlu\n",
    "csv_path = './data/at/features.csv'\n",
    "\n",
    "# Preprocess gambar\n",
    "images, image_paths = preprocess_images(image_folder)\n",
    "\n",
    "# Preprocess CSV untuk fitur tambahan\n",
    "features, label_encoder = preprocess_csv(csv_path)\n",
    "\n",
    "# Cek beberapa hasil preprocessing\n",
    "print(f\"Jumlah gambar yang diproses: {len(images)}\")\n",
    "print(f\"Beberapa fitur: {features.head()}\")\n",
    "\n",
    "# Simpan hasil preprocessing gambar dan fitur ke file atau variabel lain jika perlu\n",
    "# Misalnya, kita bisa simpan hasil fitur dan label encoder untuk nanti.\n"
   ]
  },
  {
   "cell_type": "markdown",
   "id": "934599cc",
   "metadata": {},
   "source": [
    "### Histogram Equalization"
   ]
  },
  {
   "cell_type": "code",
   "execution_count": null,
   "id": "5ada4fae",
   "metadata": {},
   "outputs": [],
   "source": [
    "# Fungsi preprocessing gambar dengan histogram equalization\n",
    "def preprocess_images_with_histogram_equalization(image_folder, target_size=(200, 200)):\n",
    "    images = []\n",
    "    labels = []\n",
    "    \n",
    "    for filename in os.listdir(image_folder):\n",
    "        if filename.endswith('.pgm'):\n",
    "            img_path = os.path.join(image_folder, filename)\n",
    "            img = cv2.imread(img_path, cv2.IMREAD_GRAYSCALE)\n",
    "            img = cv2.resize(img, target_size)\n",
    "            \n",
    "            # Histogram Equalization untuk meningkatkan kontras\n",
    "            img_eq = cv2.equalizeHist(img)\n",
    "            \n",
    "            # Normalisasi pixel 0-1\n",
    "            img_eq = img_eq / 255.0\n",
    "            \n",
    "            images.append(img_eq)\n",
    "            labels.append(filename)\n",
    "    \n",
    "    return np.array(images), labels\n",
    "\n",
    "# Fungsi preprocessing CSV (bisa sama seperti sebelumnya)\n",
    "def preprocess_csv(csv_path):\n",
    "    df = pd.read_csv(csv_path)\n",
    "\n",
    "    # Encode label ID\n",
    "    label_encoder = LabelEncoder()\n",
    "    df['ID'] = label_encoder.fit_transform(df['ID'])\n",
    "    \n",
    "    # Encode gender\n",
    "    df['gender'] = df['gender'].map({'M': 1, 'F': 0})\n",
    "    \n",
    "    # Isi missing value jika ada\n",
    "    if df['age'].isnull().sum() > 0:\n",
    "        df['age'] = df['age'].fillna(df['age'].median())\n",
    "    if df['timestamp'].isnull().sum() > 0:\n",
    "        df['timestamp'] = df['timestamp'].fillna(df['timestamp'].mean())\n",
    "\n",
    "    return df\n",
    "\n",
    "# Path ke folder dan CSV\n",
    "image_folder = './data/at/j'\n",
    "csv_path = './data/at/features.csv'\n",
    "\n",
    "# Preprocessing dengan histogram equalization\n",
    "images, labels = preprocess_images_with_histogram_equalization(image_folder)\n",
    "\n",
    "# Preprocessing CSV\n",
    "features = preprocess_csv(csv_path)\n",
    "\n",
    "# Cek hasil\n",
    "print(f\"Jumlah gambar setelah histogram equalization: {len(images)}\")\n",
    "print(f\"Beberapa data fitur: {features.head()}\")\n"
   ]
  },
  {
   "cell_type": "markdown",
   "id": "0a5dd81b",
   "metadata": {},
   "source": [
    "### Penjelasan"
   ]
  },
  {
   "cell_type": "markdown",
   "id": "0f2225e9",
   "metadata": {},
   "source": [
    "## Pelatihan dan Penyetelan Model"
   ]
  },
  {
   "cell_type": "markdown",
   "id": "dd7c1b4e",
   "metadata": {},
   "source": [
    "### Penjelasan"
   ]
  },
  {
   "cell_type": "markdown",
   "id": "2454347b",
   "metadata": {},
   "source": [
    "## Pengukuran kinerja / evaluasi model"
   ]
  },
  {
   "cell_type": "markdown",
   "id": "1561699c",
   "metadata": {},
   "source": [
    "### Penjelasan"
   ]
  },
  {
   "cell_type": "markdown",
   "id": "1cb34bdc",
   "metadata": {},
   "source": [
    "## Visualisasi hasil"
   ]
  },
  {
   "cell_type": "markdown",
   "id": "5b610668",
   "metadata": {},
   "source": [
    "### Penjelasan"
   ]
  },
  {
   "cell_type": "markdown",
   "id": "43996d67",
   "metadata": {},
   "source": [
    "## Kesimpulan"
   ]
  },
  {
   "cell_type": "markdown",
   "id": "bea64c12",
   "metadata": {},
   "source": [
    "### Penjelasan"
   ]
  }
 ],
 "metadata": {
  "kernelspec": {
   "display_name": "facerecog",
   "language": "python",
   "name": "python3"
  },
  "language_info": {
   "name": "python",
   "version": "3.13.3"
  }
 },
 "nbformat": 4,
 "nbformat_minor": 5
}
