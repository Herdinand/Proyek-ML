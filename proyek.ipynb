{
 "cells": [
  {
   "cell_type": "markdown",
   "id": "408ef86a",
   "metadata": {},
   "source": [
    "# Proyek ML"
   ]
  },
  {
   "cell_type": "markdown",
   "id": "54958ebd",
   "metadata": {},
   "source": [
    "## Permasalahan  yang dihadapi"
   ]
  },
  {
   "cell_type": "markdown",
   "id": "4add44e0",
   "metadata": {},
   "source": [
    "### Penjelasan"
   ]
  },
  {
   "cell_type": "markdown",
   "id": "cadd5337",
   "metadata": {},
   "source": [
    "## Alasan pemilihan data\n"
   ]
  },
  {
   "cell_type": "markdown",
   "id": "890d8a2c",
   "metadata": {},
   "source": [
    "### Penjelasan"
   ]
  },
  {
   "cell_type": "markdown",
   "id": "6afd5622",
   "metadata": {},
   "source": [
    "## Library"
   ]
  },
  {
   "cell_type": "markdown",
   "id": "0c97d1b6",
   "metadata": {},
   "source": [
    "## EDA"
   ]
  },
  {
   "cell_type": "markdown",
   "id": "9e370c6e",
   "metadata": {},
   "source": [
    "### Penjelasan\n"
   ]
  },
  {
   "cell_type": "markdown",
   "id": "46eebe32",
   "metadata": {},
   "source": [
    "## Data Preprocessing"
   ]
  },
  {
   "cell_type": "markdown",
   "id": "0a5dd81b",
   "metadata": {},
   "source": [
    "### Penjelasan"
   ]
  },
  {
   "cell_type": "markdown",
   "id": "0f2225e9",
   "metadata": {},
   "source": [
    "## Pelatihan dan Penyetelan Model"
   ]
  },
  {
   "cell_type": "markdown",
   "id": "dd7c1b4e",
   "metadata": {},
   "source": [
    "### Penjelasan"
   ]
  },
  {
   "cell_type": "markdown",
   "id": "2454347b",
   "metadata": {},
   "source": [
    "## Pengukuran kinerja / evaluasi model"
   ]
  },
  {
   "cell_type": "markdown",
   "id": "1561699c",
   "metadata": {},
   "source": [
    "### Penjelasan"
   ]
  },
  {
   "cell_type": "markdown",
   "id": "1cb34bdc",
   "metadata": {},
   "source": [
    "## Visualisasi hasil"
   ]
  },
  {
   "cell_type": "markdown",
   "id": "5b610668",
   "metadata": {},
   "source": [
    "### Penjelasan"
   ]
  },
  {
   "cell_type": "markdown",
   "id": "43996d67",
   "metadata": {},
   "source": [
    "## Kesimpulan"
   ]
  },
  {
   "cell_type": "markdown",
   "id": "bea64c12",
   "metadata": {},
   "source": [
    "### Penjelasan"
   ]
  }
 ],
 "metadata": {
  "language_info": {
   "name": "python"
  }
 },
 "nbformat": 4,
 "nbformat_minor": 5
}
